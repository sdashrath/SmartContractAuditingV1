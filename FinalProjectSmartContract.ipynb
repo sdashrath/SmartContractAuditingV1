{
 "cells": [
  {
   "cell_type": "code",
   "execution_count": 1,
   "id": "dcb8e519-5a79-4e99-a914-ccb0d0957ab5",
   "metadata": {},
   "outputs": [],
   "source": [
    "import os\n",
    "import re\n",
    "import ast\n",
    "import numpy as np\n",
    "import pandas as pd\n",
    "from sklearn.model_selection import train_test_split\n",
    "from sklearn.feature_extraction.text import TfidfVectorizer\n",
    "from sklearn.ensemble import RandomForestClassifier\n",
    "from sklearn.metrics import accuracy_score, classification_report\n",
    "from imblearn.over_sampling import SMOTE\n"
   ]
  },
  {
   "cell_type": "code",
   "execution_count": 2,
   "id": "e219c80b-6526-47f4-b83e-8b4e8946117b",
   "metadata": {},
   "outputs": [],
   "source": [
    "# Step 1: Load smart contracts (Solidity files)\n",
    "\n",
    "def load_smart_contracts(contract_dir):\n",
    "    contracts = []\n",
    "    labels = []\n",
    "    for filename in os.listdir(contract_dir):\n",
    "        if filename.endswith(\".sol\"):\n",
    "            with open(os.path.join(contract_dir, filename), 'r') as file:\n",
    "                contracts.append(file.read())\n",
    "            # Assuming the label (secure/insecure) is part of the filename\n",
    "            label = 1 if \"secure\" in filename else 0\n",
    "            labels.append(label)\n",
    "    return contracts, labels"
   ]
  },
  {
   "cell_type": "code",
   "execution_count": 3,
   "id": "d8b10ac2-f3dc-4763-9be0-f2725e0afe9b",
   "metadata": {},
   "outputs": [],
   "source": [
    "# Step 2: Preprocessing the smart contracts\n",
    "def preprocess_contracts(contracts):\n",
    "    preprocessed_contracts = []\n",
    "    for contract in contracts:\n",
    "        # Remove comments and unnecessary spaces\n",
    "        contract = re.sub(r'//.*?(\\n|$)|/\\*.*?\\*/', '', contract, flags=re.S)\n",
    "        preprocessed_contracts.append(contract)\n",
    "    return preprocessed_contracts\n"
   ]
  },
  {
   "cell_type": "code",
   "execution_count": 4,
   "id": "547244f6-6596-494f-8419-585c27e8f250",
   "metadata": {},
   "outputs": [],
   "source": [
    "# Step 3: Feature extraction using TF-IDF\n",
    "def extract_features(contracts):\n",
    "    vectorizer = TfidfVectorizer(token_pattern=r'[A-Za-z_][A-Za-z0-9_]*', max_features=1000)\n",
    "    X = vectorizer.fit_transform(contracts)\n",
    "    print(f\"TF-IDF Vocabulary Size: {len(vectorizer.vocabulary_)}\")  # Debugging\n",
    "    return X"
   ]
  },
  {
   "cell_type": "code",
   "execution_count": 5,
   "id": "88df2793-d870-4096-aa2b-7a2ae7a8687a",
   "metadata": {},
   "outputs": [
    {
     "name": "stdout",
     "output_type": "stream",
     "text": [
      "TF-IDF Vocabulary Size: 495\n",
      "Accuracy: 0.859375\n",
      "              precision    recall  f1-score   support\n",
      "\n",
      "           0       1.00      0.72      0.84        32\n",
      "           1       0.78      1.00      0.88        32\n",
      "\n",
      "    accuracy                           0.86        64\n",
      "   macro avg       0.89      0.86      0.86        64\n",
      "weighted avg       0.89      0.86      0.86        64\n",
      "\n"
     ]
    }
   ],
   "source": [
    "# Step 4: Model Training\n",
    "def train_model(X, y):\n",
    "    smote = SMOTE(random_state=42, k_neighbors=1)\n",
    "    try:\n",
    "        X_resampled, y_resampled = smote.fit_resample(X, y)\n",
    "    except ValueError as e:\n",
    "        print(f\"SMOTE Error: {e}\")\n",
    "        return None\n",
    "\n",
    "    X_train, X_test, y_train, y_test = train_test_split(X_resampled, y_resampled, test_size=0.2, random_state=42)\n",
    "    model = RandomForestClassifier(n_estimators=100, random_state=42, class_weight='balanced')\n",
    "    model.fit(X_train, y_train)\n",
    "    y_pred = model.predict(X_test)\n",
    "\n",
    "    print(f\"Accuracy: {accuracy_score(y_test, y_pred)}\")\n",
    "    print(classification_report(y_test, y_pred, zero_division=0))\n",
    "    return model\n",
    "\n",
    "# Main execution\n",
    "contract_dir = './contracts'  # Path to the smart contracts folder\n",
    "contracts, labels = load_smart_contracts(contract_dir)\n",
    "if contracts and labels:\n",
    "    contracts = preprocess_contracts(contracts)\n",
    "    X = extract_features(contracts)\n",
    "    y = np.array(labels)\n",
    "    model = train_model(X, y)\n",
    "else:\n",
    "    print(\"No contracts found or invalid labels.\")"
   ]
  },
  {
   "cell_type": "code",
   "execution_count": 6,
   "id": "49e16ed9-74ef-4add-8987-dc68ce148d78",
   "metadata": {},
   "outputs": [
    {
     "name": "stdout",
     "output_type": "stream",
     "text": [
      "TF-IDF Vocabulary Size: 495\n",
      "Accuracy: 0.859375\n",
      "              precision    recall  f1-score   support\n",
      "\n",
      "           0       1.00      0.72      0.84        32\n",
      "           1       0.78      1.00      0.88        32\n",
      "\n",
      "    accuracy                           0.86        64\n",
      "   macro avg       0.89      0.86      0.86        64\n",
      "weighted avg       0.89      0.86      0.86        64\n",
      "\n"
     ]
    }
   ],
   "source": [
    "# Main execution\n",
    "contract_dir = './contracts'  # Path to the smart contracts folder\n",
    "contracts, labels = load_smart_contracts(contract_dir)\n",
    "contracts = preprocess_contracts(contracts)\n",
    "X = extract_features(contracts)\n",
    "y = np.array(labels)\n",
    "model = train_model(X, y)"
   ]
  },
  {
   "cell_type": "code",
   "execution_count": null,
   "id": "e32e6db5-a764-4874-b124-efbeacf06f69",
   "metadata": {},
   "outputs": [],
   "source": [
    "#Analysis of Results\n",
    "#TF-IDF Vocabulary Size: A vocabulary size of 495 indicates a reasonably diverse set of features extracted from the contracts. \n",
    "#                        This size is reflective of the structure and terms used in Solidity code.\n",
    "\n",
    "#Accuracy:  The overall accuracy of 85.94% suggests the model is performing reasonably well but is not yet perfect.\n",
    "#                        This indicates that the model can differentiate between secure and insecure contracts effectively but struggles with some edge cases.\n",
    "\n",
    "#Precision and Recall:\n",
    "\n",
    "#Class 0 (Insecure Contracts):\n",
    "#Precision is 1.00, indicating no false positives (no secure contracts were misclassified as insecure).\n",
    "#Recall is 0.72, meaning 28% of insecure contracts were not identified (false negatives).\n",
    "#Class 1 (Secure Contracts):\n",
    "#Precision is 0.78, meaning some insecure contracts were misclassified as secure (false positives).\n",
    "#Recall is 1.00, indicating all secure contracts were correctly identified.\n",
    "#This imbalance shows that while the model is cautious about labeling contracts as \"secure,\" it occasionally misses insecure ones.\n",
    "\n",
    "#Weighted Metrics: Weighted metrics align closely with macro averages because the dataset is balanced (equal numbers of secure and insecure contracts)."
   ]
  }
 ],
 "metadata": {
  "kernelspec": {
   "display_name": "Python 3 (ipykernel)",
   "language": "python",
   "name": "python3"
  },
  "language_info": {
   "codemirror_mode": {
    "name": "ipython",
    "version": 3
   },
   "file_extension": ".py",
   "mimetype": "text/x-python",
   "name": "python",
   "nbconvert_exporter": "python",
   "pygments_lexer": "ipython3",
   "version": "3.12.4"
  }
 },
 "nbformat": 4,
 "nbformat_minor": 5
}
